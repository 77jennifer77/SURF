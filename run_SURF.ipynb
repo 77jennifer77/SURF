{
 "cells": [
  {
   "cell_type": "code",
   "execution_count": 18,
   "metadata": {},
   "outputs": [
    {
     "name": "stdout",
     "output_type": "stream",
     "text": [
      "(1, 24)\n"
     ]
    }
   ],
   "source": [
    "# combining everything we have \n",
    "import cv2;\n",
    "import numpy as np;\n",
    "from matplotlib import pyplot as plt;\n",
    "from pywt import dwt2, idwt2;\n",
    "import pywt;\n",
    "\n",
    "def find_neighbors(index, dim):\n",
    "    all_neighbors = []\n",
    "    x, y = index\n",
    "    width, height = dim\n",
    "    \n",
    "    all_neighbors.append((x, y - 1))\n",
    "    all_neighbors.append((x, y + 1))\n",
    "    all_neighbors.append((x - 1, y))\n",
    "    all_neighbors.append((x + 1, y))\n",
    "    all_neighbors.append((x - 1, y - 1))\n",
    "    all_neighbors.append((x + 1, y - 1))\n",
    "    all_neighbors.append((x - 1, y + 1))\n",
    "    all_neighbors.append((x + 1, y + 1))\n",
    "\n",
    "    neighbors = [index]\n",
    "    #     save the location that the pixel is on for comparison\n",
    "    for i in all_neighbors:\n",
    "        if (i[0] >= width) or (i[1] >= height):\n",
    "            continue\n",
    "        elif (i[0] >= 0) and (i[1] >= 0):\n",
    "            neighbors.append(i)\n",
    "    return neighbors\n",
    "\n",
    "# generates the prewitt kernels which will give us the approximate second derivative of gaussian \n",
    "def kernelGen(dim, isX):\n",
    "    if(isX):\n",
    "        kernelx = np.ones((1,dim), dtype = int) * -1\n",
    "        zeros = np.zeros((1,dim), dtype = int)\n",
    "        ones = np.ones((1,dim), dtype = int)\n",
    "        for num in range(0,dim-2):\n",
    "            kernelx = np.concatenate((kernelx, zeros), axis = -1)\n",
    "        kernelx = np.concatenate((kernelx, ones), axis = -1)\n",
    "        kernelx = np.resize(kernelx, (dim,dim))\n",
    "        return kernelx\n",
    "    else:\n",
    "        kernely =  np.ones((dim,1), dtype = int) * -1\n",
    "        zeros = np.zeros((dim,1), dtype = int)\n",
    "        ones = np.ones((dim,1), dtype = int)\n",
    "        for num in range(0,dim-2):\n",
    "            kernely = np.concatenate((kernely, zeros), axis = -1)\n",
    "        kernely = np.concatenate((kernely, ones), axis = -1)\n",
    "        kernely = np.resize(kernely, (dim,dim))\n",
    "        return kernely\n",
    "    \n",
    "def SURF(image):\n",
    "    img = image\n",
    "    # convert image to grayscale \n",
    "    gray = cv2.cvtColor(img, cv2.COLOR_RGB2GRAY)\n",
    "    \n",
    "    fSize = [9, 15, 21, 27]\n",
    "    \n",
    "    ndet = [] # list of numpy arrays of dim 300*300\n",
    "    for size in fSize:\n",
    "        kernelx = kernelGen(size, True)\n",
    "        kernely = kernelGen(size, False)\n",
    "\n",
    "        Dx = cv2.filter2D(gray, -1, kernelx)\n",
    "        Dxx = cv2.filter2D(Dx, -1, kernelx)\n",
    "        Dy = cv2.filter2D(gray, -1, kernely)\n",
    "        Dyy = cv2.filter2D(Dy, -1, kernely)\n",
    "        Dxy = cv2.filter2D(Dx, -1, kernely)\n",
    "        \n",
    "        # resize in order to evaluate determinant\n",
    "        new_Dyy = cv2.resize(Dyy, (Dyy.shape[0],Dyy.shape[1])) #flip row & col\n",
    "        new_Dxy = cv2.resize(Dxy, (Dxx.shape[0],Dyy.shape[1])) \n",
    "        \n",
    "        # evaluate determinant based equation given from paper\n",
    "        determinant = np.dot(Dxx,new_Dyy)-(np.square(.9)*np.dot(Dxy, new_Dxy)) \n",
    "        ndet.append(determinant)\n",
    "    \n",
    "    det = [] # list of determinant list \n",
    "    for i in range(0, len(ndet)):\n",
    "        det.append(ndet[i].tolist())\n",
    "    \n",
    "    kp = [] # stores key points\n",
    "    loc = [] # stores location of key point\n",
    "    # now for the non-maximum suppression in 3*3*3 neighborhood between scales\n",
    "    for index in range(0, len(det)):\n",
    "        if(index == 0 or index == len(det) - 1):\n",
    "            continue\n",
    "        instance = det[index] # 300 * 300 square matrix\n",
    "        width = len(instance[1])\n",
    "        height = len(instance[0])\n",
    "        instance_dim = (width, height)\n",
    "        for row in range(width):\n",
    "            for col in range(height):\n",
    "                neighbors_to_check = []\n",
    "                current = instance[row][col] \n",
    "                upper = det[index+1]\n",
    "                lower = det[index-1]\n",
    "                neighbors = find_neighbors((row, col), instance_dim)\n",
    "                # retrieves all valid neighbors to check, upper & lower neighbor check positions will be exactly the same\n",
    "                for position in neighbors:\n",
    "                    neighbors_to_check.append(upper[position[0]][position[1]])\n",
    "                    neighbors_to_check.append(lower[position[0]][position[1]])\n",
    "                    neighbors_to_check.append(instance[position[0]][position[1]])\n",
    "                # node in same position in upper and lower level also needs to be compared\n",
    "                neighbors_to_check.append(upper[row][col])\n",
    "                neighbors_to_check.append(lower[row][col])\n",
    "                if not (current == max(neighbors_to_check)):\n",
    "                    continue\n",
    "                else:\n",
    "                    kp.append(current)\n",
    "                    loc.append((row,col))\n",
    "#         print('Length of keypoint locations found', len(loc))\n",
    "#         print('Length of location set', len(set(loc)))\n",
    "#         print('Location keypoints:', loc)\n",
    "        return loc\n",
    "\n",
    "original_result = SURF(cv2.imread('red_panda.jpg'))\n",
    "print(original_result)"
   ]
  },
  {
   "cell_type": "code",
   "execution_count": 20,
   "metadata": {},
   "outputs": [
    {
     "name": "stdout",
     "output_type": "stream",
     "text": [
      "[(1, 6), (1, 8), (1, 28), (1, 106), (1, 129), (1, 139), (1, 141), (1, 149), (2, 60), (2, 62), (2, 87), (2, 91), (3, 3), (3, 7), (3, 20), (3, 36), (3, 129), (3, 147), (4, 79), (4, 89), (4, 115), (4, 117), (4, 118), (4, 134), (5, 28), (5, 33), (5, 57), (5, 64), (5, 131), (6, 31), (7, 9), (7, 57), (7, 124), (7, 126), (7, 132), (7, 143), (7, 149), (8, 0), (8, 38), (8, 73), (8, 94), (8, 104), (8, 129), (9, 21), (9, 33), (9, 42), (9, 113), (9, 140), (9, 147), (10, 12), (10, 24), (10, 27), (10, 48), (10, 58), (10, 64), (10, 89), (10, 100), (11, 5), (11, 61), (11, 102), (11, 107), (11, 129), (12, 26), (12, 49), (12, 65), (12, 71), (12, 87), (12, 105), (12, 114), (12, 125), (13, 7), (13, 10), (13, 20), (13, 95), (14, 38), (14, 90), (14, 100), (14, 112), (14, 127), (15, 61), (15, 86), (15, 94), (15, 97), (15, 135), (16, 42), (16, 50), (16, 66), (17, 31), (17, 56), (17, 148), (18, 19), (18, 37), (18, 45), (18, 54), (18, 88), (18, 90), (18, 98), (18, 130), (19, 35), (19, 65), (19, 78), (19, 92), (20, 5), (20, 44), (20, 94), (20, 137), (21, 13), (21, 58), (21, 63), (21, 71), (22, 16), (22, 18), (22, 29), (22, 43), (22, 80), (22, 97), (22, 105), (22, 110), (22, 122), (23, 136), (23, 142), (24, 23), (24, 29), (24, 37), (24, 49), (24, 69), (24, 100), (25, 15), (25, 20), (25, 25), (25, 27), (25, 85), (26, 5), (26, 8), (26, 43), (26, 45), (26, 123), (27, 2), (27, 12), (27, 26), (27, 57), (27, 107), (27, 109), (27, 116), (28, 15), (28, 34), (28, 59), (28, 65), (29, 36), (29, 43), (29, 93), (29, 105), (29, 112), (29, 124), (29, 128), (30, 10), (30, 19), (30, 24), (30, 28), (30, 78), (30, 101), (30, 107), (30, 132), (31, 7), (31, 17), (31, 72), (31, 143), (32, 12), (32, 23), (32, 25), (32, 61), (32, 63), (32, 79), (32, 81), (32, 97), (32, 135), (32, 149), (33, 34), (33, 56), (33, 77), (33, 101), (33, 106), (34, 0), (34, 2), (34, 12), (34, 14), (34, 19), (34, 31), (34, 48), (34, 67), (34, 70), (34, 72), (34, 89), (34, 121), (35, 63), (35, 77), (35, 127), (35, 149), (36, 17), (36, 48), (36, 81), (36, 89), (36, 93), (36, 119), (36, 133), (37, 4), (37, 36), (37, 42), (37, 51), (37, 62), (37, 96), (37, 100), (37, 110), (37, 149), (38, 9), (38, 65), (38, 68), (38, 83), (38, 93), (38, 126), (38, 130), (38, 132), (38, 139), (38, 142), (38, 147), (39, 1), (39, 16), (39, 19), (39, 24), (39, 86), (39, 100), (39, 104), (40, 71), (40, 76), (40, 111), (41, 1), (41, 53), (41, 105), (41, 107), (41, 124), (41, 133), (42, 19), (42, 28), (42, 61), (42, 63), (42, 73), (42, 86), (42, 113), (42, 127), (43, 35), (43, 88), (43, 139), (44, 67), (44, 83), (44, 93), (44, 105), (44, 144), (45, 29), (45, 42), (45, 64), (45, 85), (45, 89), (45, 114), (45, 119), (45, 135), (45, 139), (45, 141), (46, 17), (46, 38), (46, 82), (46, 108), (46, 137), (47, 22), (47, 54), (47, 103), (48, 64), (48, 76), (48, 148), (49, 35), (49, 41), (49, 55), (49, 80), (49, 82), (49, 97), (49, 118), (49, 134), (49, 144), (50, 3), (50, 6), (50, 48), (50, 65), (50, 69), (50, 76), (51, 18), (51, 20), (51, 57), (51, 91), (51, 98), (51, 137), (51, 140), (51, 148), (52, 28), (52, 53), (52, 61), (52, 72), (52, 85), (52, 109), (52, 117), (53, 8), (53, 35), (53, 66), (53, 74), (53, 121), (53, 146), (54, 69), (54, 71), (54, 83), (54, 85), (54, 113), (55, 52), (55, 60), (55, 103), (55, 115), (55, 141), (55, 143), (56, 6), (56, 21), (56, 85), (56, 99), (56, 126), (56, 147), (56, 149), (57, 42), (57, 49), (57, 61), (57, 68), (57, 83), (57, 87), (57, 103), (58, 21), (58, 26), (58, 34), (58, 107), (58, 141), (58, 143), (58, 149), (59, 43), (59, 53), (59, 135), (61, 4), (61, 41), (61, 85), (61, 94), (61, 113), (61, 135), (62, 63), (62, 74), (62, 77), (62, 97), (62, 101), (62, 132), (62, 146), (63, 31), (63, 44), (63, 89), (63, 128), (63, 135), (63, 149), (64, 25), (64, 37), (64, 55), (64, 78), (64, 101), (64, 131), (65, 65), (65, 139), (65, 143), (66, 8), (66, 26), (66, 41), (66, 125), (66, 148), (67, 13), (67, 24), (67, 28), (67, 31), (67, 98), (67, 118), (68, 26), (68, 33), (68, 137), (69, 112), (69, 126), (69, 131), (69, 135), (70, 3), (70, 14), (70, 22), (70, 39), (70, 91), (70, 115), (70, 128), (71, 6), (71, 66), (71, 96), (71, 101), (71, 105), (72, 29), (72, 144), (73, 16), (73, 20), (73, 27), (73, 45), (73, 48), (73, 74), (73, 77), (73, 93), (73, 107), (73, 127), (74, 0), (74, 13), (74, 56), (74, 96), (74, 110), (74, 129), (74, 149), (75, 18), (75, 59), (75, 89), (76, 22), (76, 41), (76, 46), (76, 62), (76, 80), (76, 106), (76, 126), (76, 138), (76, 142), (77, 31), (77, 52), (77, 95), (77, 112), (77, 114), (77, 117), (77, 134), (78, 8), (78, 34), (78, 56), (78, 65), (78, 97), (78, 140), (78, 149), (79, 67), (79, 116), (80, 48), (80, 74), (80, 88), (81, 41), (81, 56), (81, 70), (82, 10), (82, 28), (82, 68), (82, 90), (82, 116), (83, 138), (83, 149), (84, 4), (84, 31), (84, 52), (84, 55), (84, 103), (85, 25), (85, 71), (85, 76), (85, 88), (85, 100), (86, 4), (86, 43), (86, 103), (86, 111), (86, 117), (87, 29), (87, 53), (87, 67), (87, 71), (87, 76), (87, 82), (87, 84), (87, 92), (87, 123), (87, 126), (87, 131), (88, 1), (88, 18), (88, 20), (88, 33), (88, 36), (88, 139), (89, 3), (89, 6), (89, 23), (89, 85), (89, 98), (89, 100), (89, 119), (89, 141), (90, 20), (90, 30), (90, 36), (90, 51), (90, 72), (90, 80), (91, 68), (91, 106), (91, 118), (91, 133), (92, 20), (92, 59), (92, 61), (92, 63), (92, 146), (93, 4), (93, 17), (93, 40), (93, 54), (93, 81), (93, 119), (93, 123), (93, 131), (93, 142), (93, 144), (94, 27), (94, 48), (94, 104), (95, 1), (95, 19), (95, 23), (95, 25), (95, 86), (95, 119), (96, 6), (96, 21), (96, 58), (96, 61), (96, 74), (96, 103), (97, 24), (97, 29), (97, 41), (97, 48), (97, 125), (97, 137), (97, 139), (98, 9), (98, 31), (98, 35), (98, 70), (98, 102), (98, 115), (98, 122), (99, 18), (99, 23), (99, 63), (99, 95), (99, 149), (100, 72), (100, 74), (100, 85), (100, 107), (100, 116), (100, 133), (101, 45), (101, 64), (101, 77), (101, 110), (101, 112), (101, 147), (102, 4), (102, 75), (102, 82), (103, 7), (103, 42), (103, 91), (103, 95), (103, 121), (104, 25), (104, 45), (104, 56), (104, 58), (104, 62), (104, 104), (104, 109), (104, 117), (105, 3), (105, 14), (105, 51), (105, 81), (105, 87), (105, 94), (105, 126), (105, 144), (105, 148), (106, 0), (106, 30), (106, 32), (106, 142), (107, 64), (107, 93), (107, 103), (108, 123), (108, 134), (108, 146), (109, 11), (109, 17), (109, 56), (109, 130), (109, 144), (110, 15), (110, 52), (110, 101), (110, 105), (110, 132), (111, 50), (111, 97), (112, 41), (112, 58), (112, 68), (112, 101), (112, 107), (112, 123), (113, 3), (113, 32), (113, 65), (113, 121), (113, 140), (114, 62), (114, 85), (114, 132), (114, 147), (114, 149), (115, 0), (115, 14), (115, 50), (116, 19), (116, 62), (116, 65), (116, 70), (116, 95), (116, 132), (117, 86), (117, 91), (117, 101), (117, 114), (117, 127), (118, 0), (118, 83), (118, 95), (118, 134), (118, 141), (118, 148), (119, 2), (119, 21), (119, 25), (119, 112), (119, 123), (119, 137), (120, 10), (120, 18), (120, 38), (120, 58), (120, 82), (120, 143), (121, 4), (121, 33), (121, 65), (121, 84), (121, 118), (121, 121), (122, 22), (122, 27), (122, 35), (122, 50), (122, 58), (122, 144), (123, 70), (124, 61), (124, 68), (124, 81), (124, 83), (124, 135), (125, 1), (125, 26), (125, 29), (125, 42), (125, 124), (126, 16), (126, 33), (126, 59), (126, 72), (126, 118), (126, 132), (127, 36), (127, 47), (127, 62), (127, 65), (127, 68), (127, 91), (127, 97), (127, 100), (127, 122), (127, 128), (127, 135), (128, 7), (128, 49), (128, 93), (128, 140), (129, 14), (129, 32), (129, 74), (129, 85), (129, 133), (130, 55), (130, 57), (130, 124), (130, 141), (131, 97), (132, 43), (132, 46), (132, 77), (132, 100), (132, 123), (133, 15), (133, 62), (133, 86), (133, 89), (133, 120), (133, 128), (134, 22), (134, 42), (134, 45), (134, 80), (134, 98), (134, 105), (134, 126), (134, 137), (135, 25), (135, 73), (135, 117), (136, 2), (136, 10), (136, 12), (136, 33), (136, 41), (136, 52), (136, 62), (136, 70), (136, 86), (136, 104), (136, 134), (137, 15), (137, 36), (137, 57), (137, 60), (137, 65), (137, 82), (137, 127), (137, 137), (138, 13), (138, 32), (138, 41), (138, 44), (138, 62), (138, 86), (138, 89), (138, 133), (139, 34), (139, 96), (139, 111), (139, 113), (140, 0), (140, 4), (140, 14), (140, 26), (140, 52), (140, 87), (140, 91), (140, 140), (140, 149), (141, 2), (141, 17), (141, 20), (141, 31), (141, 50), (141, 60), (141, 126), (143, 12), (143, 15), (143, 53), (143, 91), (143, 112), (143, 142), (144, 20), (144, 27), (144, 40), (144, 56), (144, 60), (144, 62), (144, 101), (144, 117), (144, 128), (144, 139), (144, 148), (145, 13), (145, 16), (145, 18), (145, 43), (145, 49), (145, 74), (145, 85), (145, 94), (146, 7), (146, 30), (146, 56), (146, 62), (146, 137), (146, 140), (147, 9), (147, 39), (147, 83), (147, 91), (147, 116), (148, 21), (148, 44), (148, 62), (148, 66), (148, 71), (148, 94), (148, 98), (148, 102), (148, 118)]\n"
     ]
    }
   ],
   "source": [
    "# SURF on quadrant I\n",
    "original = cv2.imread('red_panda.jpg') # converted to grayscale within SURF function\n",
    "width = original.shape[1] # 500\n",
    "height = original.shape[0] # 300\n",
    "w = int(width/2) \n",
    "h = int(height/2) \n",
    "q1 = original[0:h, w:width]\n",
    "q1_result = SURF(q1)\n",
    "# print(q1_result)\n",
    "q2 = original[0:h, 0:w]\n",
    "# SURF(q2)\n",
    "q3 = original[h:height, 0:w]\n",
    "# SURF(q3)\n",
    "q4 = original[h:height, w:width]\n",
    "# SURF(q4)"
   ]
  },
  {
   "attachments": {
    "image.png": {
     "image/png": "[encoded data removed]"
    }
   },
   "cell_type": "markdown",
   "metadata": {},
   "source": [
    "### Euclidean distance\n",
    "(x',y') will be our target keypoint from the whole image\n",
    "![image.png](attachment:image.png)"
   ]
  },
  {
   "cell_type": "code",
   "execution_count": 22,
   "metadata": {},
   "outputs": [
    {
     "name": "stdout",
     "output_type": "stream",
     "text": [
      "Average euclidean distance 2.4974527904553927\n"
     ]
    }
   ],
   "source": [
    "import math\n",
    "\n",
    "# compares the section result to the entire result\n",
    "def compare_result(section, whole):\n",
    "    min_distance = 0\n",
    "    for i in whole:\n",
    "        temp = math.sqrt(((section[1] - i[1])**2) + ((section[0] - i[0])**2))\n",
    "        if (min_distance == 0) or (min_distance > temp):\n",
    "            min_distance = temp\n",
    "    return min_distance\n",
    "\n",
    "avg = 0\n",
    "for point in q1_result:\n",
    "    avg += compare_result(point, original_result)\n",
    "avg = avg/len(q1_result)\n",
    "print('Average euclidean distance', avg)"
   ]
  }
 ],
 "metadata": {
  "kernelspec": {
   "display_name": "Python 3",
   "language": "python",
   "name": "python3"
  },
  "language_info": {
   "codemirror_mode": {
    "name": "ipython",
    "version": 3
   },
   "file_extension": ".py",
   "mimetype": "text/x-python",
   "name": "python",
   "nbconvert_exporter": "python",
   "pygments_lexer": "ipython3",
   "version": "3.7.6"
  }
 },
 "nbformat": 4,
 "nbformat_minor": 4
}
