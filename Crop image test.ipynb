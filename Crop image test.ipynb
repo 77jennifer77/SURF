{
 "cells": [
  {
   "cell_type": "code",
   "execution_count": null,
   "metadata": {},
   "outputs": [],
   "source": [
    "import cv2;\n",
    "import numpy as np;\n",
    "\n",
    "img = cv2.imread('red_panda.jpg')\n",
    "cv2.imshow('img', img)\n",
    "\n",
    "# convert image to grayscale \n",
    "gray = cv2.cvtColor(img, cv2.COLOR_RGB2GRAY)\n",
    "cv2.imshow('gray', gray)\n",
    "\n",
    "width = gray.shape[1]\n",
    "height = gray.shape[0]\n",
    "resize = cv2.resize(gray, (int(width/2), height))\n",
    "cv2.imshow('resize', resize)\n",
    "# crop = \n",
    "\n",
    "cv2.waitKey(0)\n",
    "cv2.destroyAllWindows()"
   ]
  }
 ],
 "metadata": {
  "kernelspec": {
   "display_name": "Python 3",
   "language": "python",
   "name": "python3"
  },
  "language_info": {
   "codemirror_mode": {
    "name": "ipython",
    "version": 3
   },
   "file_extension": ".py",
   "mimetype": "text/x-python",
   "name": "python",
   "nbconvert_exporter": "python",
   "pygments_lexer": "ipython3",
   "version": "3.7.6"
  }
 },
 "nbformat": 4,
 "nbformat_minor": 4
}
