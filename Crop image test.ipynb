{
 "cells": [
  {
   "cell_type": "code",
   "execution_count": null,
   "metadata": {},
   "outputs": [
    {
     "name": "stdout",
     "output_type": "stream",
     "text": [
      "500 300\n"
     ]
    }
   ],
   "source": [
    "import cv2;\n",
    "import numpy as np;\n",
    "\n",
    "img = cv2.imread('red_panda.jpg')\n",
    "# cv2.imshow('img', img)\n",
    "\n",
    "# convert image to grayscale \n",
    "gray = cv2.cvtColor(img, cv2.COLOR_RGB2GRAY)\n",
    "cv2.imshow('gray', gray)\n",
    "\n",
    "width = gray.shape[1] # 500\n",
    "height = gray.shape[0] # 300\n",
    "w = int(width/2) \n",
    "h = int(height/2) \n",
    "print(width, height)\n",
    "resize = cv2.resize(gray, (int(width/2), height))\n",
    "# cv2.imshow('resize', resize)\n",
    "\n",
    "crop1 = gray[0:h, 0:w]\n",
    "cv2.imshow('1', crop1)\n",
    "crop2 = gray[0:h, w:width]\n",
    "cv2.imshow('2', crop2)\n",
    "crop3 = gray[h:height, 0:w]\n",
    "cv2.imshow('3', crop3)\n",
    "crop4 = gray[h:height, w:width]\n",
    "cv2.imshow('4', crop4)\n",
    "\n",
    "cv2.waitKey(0)\n",
    "cv2.destroyAllWindows()"
   ]
  }
 ],
 "metadata": {
  "kernelspec": {
   "display_name": "Python 3",
   "language": "python",
   "name": "python3"
  },
  "language_info": {
   "codemirror_mode": {
    "name": "ipython",
    "version": 3
   },
   "file_extension": ".py",
   "mimetype": "text/x-python",
   "name": "python",
   "nbconvert_exporter": "python",
   "pygments_lexer": "ipython3",
   "version": "3.7.6"
  }
 },
 "nbformat": 4,
 "nbformat_minor": 4
}
