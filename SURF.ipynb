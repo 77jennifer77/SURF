{
 "cells": [
  {
   "cell_type": "markdown",
   "metadata": {},
   "source": [
    "### SURF implementation"
   ]
  },
  {
   "cell_type": "code",
   "execution_count": 2,
   "metadata": {},
   "outputs": [],
   "source": [
    "# necessary imports\n",
    "import cv2;\n",
    "import numpy;"
   ]
  },
  {
   "cell_type": "code",
   "execution_count": null,
   "metadata": {},
   "outputs": [],
   "source": [
    "# load image\n",
    "img = cv2.imread('red_panda.jpg')\n",
    "cv2.imshow('img', img)\n",
    "\n",
    "# convert image to grayscale \n",
    "gray = cv2.cvtColor(img, cv2.COLOR_RGB2GRAY)\n",
    "cv2.imshow('gray', gray)\n",
    "\n",
    "# apply gaussian filter\n",
    "# blur = cv2.GaussianBlur(img, (9,9), 0)\n",
    "# cv2.imshow('blur', blur)\n",
    "\n",
    "blur = cv2.GaussianBlur(gray, (9,9), 0)\n",
    "cv2.imshow('blur', blur)\n",
    "\n",
    "# print(blur)\n",
    "\n",
    " \n",
    "\n",
    "cv2.waitKey(0)\n",
    "cv2.destroyAllWindows()"
   ]
  },
  {
   "cell_type": "code",
   "execution_count": null,
   "metadata": {},
   "outputs": [],
   "source": [
    "\n",
    "\n",
    "# using integral image\n",
    "integral = cv2.integral(blur)\n",
    "# int2 = cv2.integral(integral)\n",
    "scale = cv2.convertScaleAbs(integral)\n",
    "norm = cv2.normalize(integral, None, 255,0, cv2.NORM_MINMAX, cv2.CV_8UC1)\n",
    "\n",
    "cv2.imshow('int_scale', scale)\n",
    "cv2.imshow('int_norm', norm)\n",
    "# cv2.imshow('int_scale2', scale2)\n",
    "# cv2.imshow('int_norm2', norm2)\n",
    "\n",
    "rows,cols,dims=img.shape  \n",
    "ssum = numpy.zeros((rows,cols),numpy.int32)\n",
    "imageIntegral = cv2.integral(blur, ssum,-1) \n",
    "normInt = cv2.normalize(imageIntegral, None, 255,0, cv2.NORM_MINMAX, cv2.CV_8UC1)\n",
    "cv2.imshow(\"Integral Image\", normInt);   "
   ]
  }
 ],
 "metadata": {
  "kernelspec": {
   "display_name": "Python 3",
   "language": "python",
   "name": "python3"
  },
  "language_info": {
   "codemirror_mode": {
    "name": "ipython",
    "version": 3
   },
   "file_extension": ".py",
   "mimetype": "text/x-python",
   "name": "python",
   "nbconvert_exporter": "python",
   "pygments_lexer": "ipython3",
   "version": "3.7.6"
  }
 },
 "nbformat": 4,
 "nbformat_minor": 4
}
