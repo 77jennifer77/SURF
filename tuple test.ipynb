{
 "cells": [
  {
   "cell_type": "code",
   "execution_count": 4,
   "metadata": {},
   "outputs": [
    {
     "name": "stdout",
     "output_type": "stream",
     "text": [
      "9 [(1, 3), (5, 4), (4, 5), (2, 7), (3, 3), (1, 1), (3, 1), (1, 1), (3, 1)]\n",
      "7 [(2, 7), (5, 4), (1, 3), (3, 3), (4, 5), (3, 1), (1, 1)]\n"
     ]
    }
   ],
   "source": [
    "l = [(1,3), (5,4), (4,5),(2,7),(3,3),(1,1),(3,1),(1,1),(3,1)]\n",
    "print(len(l), l)\n",
    "print(len(list(set(l))),list(set(l)))"
   ]
  }
 ],
 "metadata": {
  "kernelspec": {
   "display_name": "Python 3",
   "language": "python",
   "name": "python3"
  },
  "language_info": {
   "codemirror_mode": {
    "name": "ipython",
    "version": 3
   },
   "file_extension": ".py",
   "mimetype": "text/x-python",
   "name": "python",
   "nbconvert_exporter": "python",
   "pygments_lexer": "ipython3",
   "version": "3.7.6"
  }
 },
 "nbformat": 4,
 "nbformat_minor": 4
}
