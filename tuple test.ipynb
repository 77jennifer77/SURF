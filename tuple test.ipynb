{
 "cells": [
  {
   "cell_type": "code",
   "execution_count": 18,
   "metadata": {},
   "outputs": [
    {
     "name": "stdout",
     "output_type": "stream",
     "text": [
      "Number of duplicates found\n",
      "[(2, 7), (5, 4), (1, 3), (3, 3), (4, 5), (3, 1), (1, 1)] \n",
      " [(1, 3), (5, 4), (4, 5), (2, 7), (3, 3), (1, 1), (3, 1), (1, 1), (3, 1)] \n",
      " 7\n",
      "[(1, 3), (5, 4), (4, 7), (1, 7), (3, 3), (1, 1), (3, 1), (1, 0), (0, 1)] \n",
      " [(1, 3), (5, 4), (4, 5), (2, 7), (3, 3), (1, 1), (3, 1), (1, 1), (3, 1)] \n",
      " 5\n"
     ]
    }
   ],
   "source": [
    "l = [(1,3), (5,4), (4,5),(2,7),(3,3),(1,1),(3,1),(1,1),(3,1)]\n",
    "r = list(set(l))\n",
    "i = [(1,3), (5,4), (4,7),(1,7),(3,3),(1,1),(3,1),(1,0),(0,1)]\n",
    "# get number of matches \n",
    "def dup(a,w):\n",
    "    n = 0\n",
    "    for i in range(len(a)):\n",
    "        if a[i] in w:\n",
    "#             print(a[i], w)\n",
    "            n += 1\n",
    "    return n\n",
    "# print(len(l), l)\n",
    "# print(len(list(set(l))),list(set(l)))\n",
    "print('Number of duplicates found')\n",
    "print(r,'\\n',l,'\\n',dup(r,l)) # 0 expected\n",
    "print(i,'\\n',l,'\\n',dup(i,l)) # some number expected"
   ]
  },
  {
   "cell_type": "code",
   "execution_count": null,
   "metadata": {},
   "outputs": [],
   "source": []
  }
 ],
 "metadata": {
  "kernelspec": {
   "display_name": "Python 3",
   "language": "python",
   "name": "python3"
  },
  "language_info": {
   "codemirror_mode": {
    "name": "ipython",
    "version": 3
   },
   "file_extension": ".py",
   "mimetype": "text/x-python",
   "name": "python",
   "nbconvert_exporter": "python",
   "pygments_lexer": "ipython3",
   "version": "3.7.6"
  }
 },
 "nbformat": 4,
 "nbformat_minor": 4
}
